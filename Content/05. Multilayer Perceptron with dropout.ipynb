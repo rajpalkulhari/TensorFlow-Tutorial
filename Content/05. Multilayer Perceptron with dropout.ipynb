{
 "cells": [
  {
   "cell_type": "code",
   "execution_count": 2,
   "metadata": {},
   "outputs": [],
   "source": [
    "import tensorflow as tf\n",
    "import numpy as np\n",
    "from tensorflow.examples.tutorials.mnist import input_data\n",
    "\n",
    "np.random.seed(1)"
   ]
  },
  {
   "cell_type": "code",
   "execution_count": 11,
   "metadata": {},
   "outputs": [
    {
     "name": "stdout",
     "output_type": "stream",
     "text": [
      "Extracting MNIST_data/train-images-idx3-ubyte.gz\n",
      "Extracting MNIST_data/train-labels-idx1-ubyte.gz\n",
      "Extracting MNIST_data/t10k-images-idx3-ubyte.gz\n",
      "Extracting MNIST_data/t10k-labels-idx1-ubyte.gz\n"
     ]
    }
   ],
   "source": [
    "mnist = input_data.read_data_sets(\"MNIST_data/\",one_hot=True)\n",
    "train_X, train_Y, test_X, test_Y = mnist.train.images, mnist.train.labels, mnist.test.images, mnist.test.labels"
   ]
  },
  {
   "cell_type": "code",
   "execution_count": 4,
   "metadata": {},
   "outputs": [
    {
     "name": "stdout",
     "output_type": "stream",
     "text": [
      "Train X shape (55000, 784)\n",
      "Train Y shape (55000, 10)\n",
      "Test X shape (10000, 784)\n",
      "Test Y shape (10000, 10)\n"
     ]
    }
   ],
   "source": [
    "print(\"Train X shape\",train_X.shape)\n",
    "print(\"Train Y shape\",train_Y.shape)\n",
    "print(\"Test X shape\",test_X.shape)\n",
    "print(\"Test Y shape\",test_Y.shape)"
   ]
  },
  {
   "cell_type": "code",
   "execution_count": 5,
   "metadata": {},
   "outputs": [],
   "source": [
    "number_features = train_X.shape[1]\n",
    "number_output_classes = train_Y.shape[1]"
   ]
  },
  {
   "cell_type": "code",
   "execution_count": 6,
   "metadata": {},
   "outputs": [],
   "source": [
    "def weight_init(shape):\n",
    "    return tf.Variable(tf.random_normal(shape))"
   ]
  },
  {
   "cell_type": "code",
   "execution_count": 7,
   "metadata": {},
   "outputs": [],
   "source": [
    "def model(X, W1, b1, W2, b2, p_keep_input, p_keep_hidden):\n",
    "    X = tf.nn.dropout(X,keep_prob=p_keep_input)\n",
    "    hidden_layer = tf.nn.relu(tf.add(tf.matmul(X, W1), b1))\n",
    "    hidden_layer = tf.nn.dropout(hidden_layer,keep_prob=p_keep_hidden)\n",
    "    y_estimated = tf.sigmoid(tf.add(tf.matmul(hidden_layer, W2), b2))\n",
    "    return y_estimated"
   ]
  },
  {
   "cell_type": "code",
   "execution_count": 8,
   "metadata": {},
   "outputs": [],
   "source": [
    "number_node = 232\n",
    "p_keep_input = tf.placeholder(tf.float32)\n",
    "p_keep_hidden = tf.placeholder(tf.float32)\n",
    "X = tf.placeholder(tf.float32,shape=(None,train_X.shape[1]))\n",
    "Y = tf.placeholder(tf.float32,shape=(None,train_Y.shape[1]))"
   ]
  },
  {
   "cell_type": "code",
   "execution_count": 9,
   "metadata": {},
   "outputs": [],
   "source": [
    "W1 = weight_init([number_features,number_node])\n",
    "b1 = weight_init([number_node,])\n",
    "W2 = weight_init([number_node,number_output_classes])\n",
    "b2 = weight_init([number_output_classes,])"
   ]
  },
  {
   "cell_type": "code",
   "execution_count": 12,
   "metadata": {},
   "outputs": [],
   "source": [
    "y_hat = model(X,W1,b1,W2,b2,p_keep_input,p_keep_hidden)\n",
    "cost = tf.reduce_mean(tf.nn.softmax_cross_entropy_with_logits(logits=y_hat,labels=Y))\n",
    "train_step = tf.train.RMSPropOptimizer(0.001, 0.9).minimize(cost)\n",
    "predict_step = tf.argmax(y_hat, 1)"
   ]
  },
  {
   "cell_type": "code",
   "execution_count": null,
   "metadata": {},
   "outputs": [],
   "source": [
    "with tf.Session() as sess:\n",
    "    tf.global_variables_initializer().run()\n",
    "    \n",
    "    for i in range(1000):\n",
    "        batch_x, batch_y = mnist.train.next_batch(100)\n",
    "        sess.run(train_step,feed_dict={X:batch_x, Y:batch_y,p_keep_input:0.8,p_keep_hidden:0.5})\n",
    "        print(i,\"th iteration, accuracy is \",np.mean(np.argmax(test_Y, axis=1) ==\n",
    "                         sess.run(predict_step, feed_dict={X: test_X,\n",
    "                                                           p_keep_input:1.0,\n",
    "                                                           p_keep_hidden:1.0})))"
   ]
  }
 ],
 "metadata": {
  "kernelspec": {
   "display_name": "Python 3",
   "language": "python",
   "name": "python3"
  },
  "language_info": {
   "codemirror_mode": {
    "name": "ipython",
    "version": 3
   },
   "file_extension": ".py",
   "mimetype": "text/x-python",
   "name": "python",
   "nbconvert_exporter": "python",
   "pygments_lexer": "ipython3",
   "version": "3.6.5"
  }
 },
 "nbformat": 4,
 "nbformat_minor": 2
}
