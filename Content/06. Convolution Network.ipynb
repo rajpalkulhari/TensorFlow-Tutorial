{
 "cells": [
  {
   "cell_type": "code",
   "execution_count": 1,
   "metadata": {},
   "outputs": [],
   "source": [
    "import numpy as np\n",
    "import tensorflow as tf\n",
    "from tensorflow.examples.tutorials.mnist import input_data\n",
    "import matplotlib.pyplot as plt\n",
    "\n",
    "np.random.seed(1)\n",
    "%matplotlib inline"
   ]
  },
  {
   "cell_type": "code",
   "execution_count": 5,
   "metadata": {},
   "outputs": [
    {
     "name": "stdout",
     "output_type": "stream",
     "text": [
      "Extracting MNIST_data/train-images-idx3-ubyte.gz\n",
      "Extracting MNIST_data/train-labels-idx1-ubyte.gz\n",
      "Extracting MNIST_data/t10k-images-idx3-ubyte.gz\n",
      "Extracting MNIST_data/t10k-labels-idx1-ubyte.gz\n"
     ]
    }
   ],
   "source": [
    "mnist = input_data.read_data_sets(\"MNIST_data/\",one_hot=True)\n",
    "train_X, train_Y, test_X, test_Y = mnist.train.images, mnist.train.labels, mnist.test.images, mnist.test.labels"
   ]
  },
  {
   "cell_type": "code",
   "execution_count": 6,
   "metadata": {},
   "outputs": [],
   "source": [
    "train_X = train_X.reshape(-1,28,28,1)\n",
    "test_X = test_X.reshape(-1,28,28,1)"
   ]
  },
  {
   "cell_type": "code",
   "execution_count": 7,
   "metadata": {},
   "outputs": [
    {
     "name": "stdout",
     "output_type": "stream",
     "text": [
      "Train X shape (55000, 28, 28, 1)\n",
      "Train Y shape (55000, 10)\n",
      "Test X shape (10000, 28, 28, 1)\n",
      "Test Y shape (10000, 10)\n"
     ]
    }
   ],
   "source": [
    "print(\"Train X shape\",train_X.shape)\n",
    "print(\"Train Y shape\",train_Y.shape)\n",
    "print(\"Test X shape\",test_X.shape)\n",
    "print(\"Test Y shape\",test_Y.shape)"
   ]
  },
  {
   "cell_type": "code",
   "execution_count": 8,
   "metadata": {},
   "outputs": [
    {
     "data": {
      "text/plain": [
       "<matplotlib.image.AxesImage at 0x217c6645ac8>"
      ]
     },
     "execution_count": 8,
     "metadata": {},
     "output_type": "execute_result"
    },
    {
     "data": {
      "image/png": "[encoded data removed]",
      "text/plain": [
       "<Figure size 432x288 with 1 Axes>"
      ]
     },
     "metadata": {},
     "output_type": "display_data"
    }
   ],
   "source": [
    "index = 7\n",
    "plt.imshow(train_X[7].reshape(28,28))"
   ]
  },
  {
   "cell_type": "code",
   "execution_count": 9,
   "metadata": {},
   "outputs": [],
   "source": [
    "number_features = train_X.shape[1]\n",
    "number_output_classes = train_Y.shape[1]"
   ]
  },
  {
   "cell_type": "code",
   "execution_count": 10,
   "metadata": {},
   "outputs": [],
   "source": [
    "def weight_init(shape):\n",
    "    return tf.Variable(tf.random_normal(shape))"
   ]
  },
  {
   "cell_type": "code",
   "execution_count": 14,
   "metadata": {},
   "outputs": [],
   "source": [
    "def model(X, W1, W2, W3, W4,W5, p_keep_conv, p_keep_hidden):\n",
    "    l1a = tf.nn.relu(tf.nn.conv2d(X, W1, strides=[1,1,1,1],padding=\"SAME\")) #(?, 28, 28, 32)\n",
    "    l1 = tf.nn.max_pool(l1a, ksize=[1,2,2,1],strides=[1,2,2,1],padding=\"SAME\") #(?, 14, 14, 32)\n",
    "    l1 = tf.nn.dropout(l1,p_keep_conv)\n",
    "    \n",
    "    l2a = tf.nn.relu(tf.nn.conv2d(l1, W2, strides=[1,1,1,1],padding=\"SAME\"))\n",
    "    l2 = tf.nn.max_pool(l2a, ksize=[1,2,2,1],strides=[1,2,2,1],padding=\"SAME\")\n",
    "    l2 = tf.nn.dropout(l2,p_keep_conv)\n",
    "    \n",
    "    l3a = tf.nn.relu(tf.nn.conv2d(l2, W3, strides=[1,1,1,1],padding=\"SAME\"))\n",
    "    l3 = tf.nn.max_pool(l3a, ksize=[1,2,2,1],strides=[1,2,2,1],padding=\"SAME\")\n",
    "    l3 = tf.reshape(l3, [-1, W4.get_shape().as_list()[0]])\n",
    "    l3 = tf.nn.dropout(l3,p_keep_conv)\n",
    "    \n",
    "    l4 = tf.nn.relu(tf.matmul(l3,W4))\n",
    "    l4 = tf.nn.dropout(l4, p_keep_hidden)\n",
    "    \n",
    "    y_pred = tf.matmul(l4,W5)\n",
    "    \n",
    "    return y_pred"
   ]
  },
  {
   "cell_type": "code",
   "execution_count": 17,
   "metadata": {},
   "outputs": [],
   "source": [
    "p_keep_conv = tf.placeholder(tf.float32)\n",
    "p_keep_hidden = tf.placeholder(tf.float32)\n",
    "X = tf.placeholder(tf.float32,[None, 28, 28, 1])\n",
    "Y = tf.placeholder(tf.float32,[None,10])"
   ]
  },
  {
   "cell_type": "code",
   "execution_count": 19,
   "metadata": {},
   "outputs": [],
   "source": [
    "W1 = weight_init([3, 3, 1, 32])\n",
    "W2 = weight_init([3, 3, 32, 64])\n",
    "W3 = weight_init([3, 3, 64, 128])\n",
    "W4 = weight_init([128*4*4, 625])\n",
    "W5 = weight_init([625, 10])"
   ]
  },
  {
   "cell_type": "code",
   "execution_count": 21,
   "metadata": {},
   "outputs": [],
   "source": [
    "y_hat = model(X,W1,W2,W3,W4,W5,p_keep_input,p_keep_hidden)\n",
    "cost = tf.reduce_mean(tf.nn.softmax_cross_entropy_with_logits(logits=y_hat,labels=Y))\n",
    "train_step = tf.train.RMSPropOptimizer(0.001, 0.9).minimize(cost)\n",
    "predict_step = tf.argmax(y_hat, 1)"
   ]
  },
  {
   "cell_type": "code",
   "execution_count": 23,
   "metadata": {},
   "outputs": [
    {
     "name": "stdout",
     "output_type": "stream",
     "text": [
      "0 th iteration, accuracy is  0.1589\n",
      "1 th iteration, accuracy is  0.1629\n",
      "2 th iteration, accuracy is  0.1847\n",
      "3 th iteration, accuracy is  0.2454\n",
      "4 th iteration, accuracy is  0.2288\n",
      "5 th iteration, accuracy is  0.2141\n",
      "6 th iteration, accuracy is  0.231\n",
      "7 th iteration, accuracy is  0.2223\n",
      "8 th iteration, accuracy is  0.25\n",
      "9 th iteration, accuracy is  0.2411\n"
     ]
    }
   ],
   "source": [
    "with tf.Session() as sess:\n",
    "    tf.global_variables_initializer().run()\n",
    "    \n",
    "    for i in range(10):\n",
    "        batch_x, batch_y = mnist.train.next_batch(100)\n",
    "        batch_x = batch_x.reshape(-1,28,28,1)\n",
    "        sess.run(train_step,feed_dict={X:batch_x, Y:batch_y,p_keep_input:0.8,p_keep_hidden:0.5})\n",
    "        print(i,\"th iteration, accuracy is \",np.mean(np.argmax(test_Y, axis=1) ==\n",
    "                         sess.run(predict_step, feed_dict={X: test_X,\n",
    "                                                           p_keep_input:1.0,\n",
    "                                                           p_keep_hidden:1.0})))"
   ]
  },
  {
   "cell_type": "code",
   "execution_count": null,
   "metadata": {},
   "outputs": [],
   "source": []
  }
 ],
 "metadata": {
  "kernelspec": {
   "display_name": "Python 3",
   "language": "python",
   "name": "python3"
  },
  "language_info": {
   "codemirror_mode": {
    "name": "ipython",
    "version": 3
   },
   "file_extension": ".py",
   "mimetype": "text/x-python",
   "name": "python",
   "nbconvert_exporter": "python",
   "pygments_lexer": "ipython3",
   "version": "3.6.5"
  }
 },
 "nbformat": 4,
 "nbformat_minor": 2
}
